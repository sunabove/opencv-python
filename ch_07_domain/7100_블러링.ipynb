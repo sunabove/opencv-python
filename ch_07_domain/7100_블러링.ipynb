{
 "cells": [
  {
   "cell_type": "code",
   "execution_count": null,
   "metadata": {},
   "outputs": [],
   "source": [
    "import numpy as np, cv2\n",
    "\n",
    "# 회선 수행 함수 - 행렬 처리 방식(속도 면에서 유리)\n",
    "def filter(image, mask):\n",
    "    rows, cols = image.shape[:2]\n",
    "    dst = np.zeros((rows, cols), np.float32)                 # 회선 결과 저장 행렬\n",
    "    xcenter, ycenter = mask.shape[1]//2, mask.shape[0]//2  # 마스크 중심 좌표\n",
    "\n",
    "    for i in range(ycenter, rows - ycenter):                  # 입력 행렬 반복 순회\n",
    "        for j in range(xcenter, cols - xcenter):\n",
    "            y1, y2 = i - ycenter, i + ycenter + 1               # 관심영역 높이 범위\n",
    "            x1, x2 = j - xcenter, j + xcenter + 1               # 관심영역 너비 범위\n",
    "            roi = image[y1:y2, x1:x2].astype(\"float32\")         # 관심영역 형변환\n",
    "\n",
    "            tmp = cv2.multiply(roi, mask)                       # 회선 적용 - OpenCV 곱셈\n",
    "            dst[i, j] = cv2.sumElems(tmp)[0]                    # 출력화소 저장\n",
    "    return dst                                                  # 자료형 변환하여 반환\n",
    "\n",
    "# 회선 수행 함수 - 화소 직접 근접\n",
    "def filter2(image, mask):\n",
    "    rows, cols = image.shape[:2]\n",
    "    dst = np.zeros((rows, cols), np.float32)                 # 회선 결과 저장 행렬\n",
    "    xcenter, ycenter = mask.shape[1]//2, mask.shape[0]//2  # 마스크 중심 좌표\n",
    "\n",
    "    for i in range(ycenter, rows - ycenter):                  # 입력 행렬 반복 순회\n",
    "        for j in range(xcenter, cols - xcenter):\n",
    "            sum = 0.0\n",
    "            for u in range(mask.shape[0]):                    # 마스크 원소 순회\n",
    "                for v in range(mask.shape[1]):\n",
    "                    y, x = i + u - ycenter , j + v - xcenter\n",
    "                    sum += image[y, x] * mask[u, v]           # 회선 수식\n",
    "            dst[i, j] = sum\n",
    "    return dst\n",
    "\n",
    "image = cv2.imread(\"img/filter_blur.jpg\", cv2.IMREAD_GRAYSCALE)  # 영상 읽기 \n",
    "\n",
    "# 블러링 마스크 원소 지정\n",
    "data = [1/9, 1/9, 1/9,\n",
    "        1/9, 1/9, 1/9,\n",
    "        1/9, 1/9, 1/9]\n",
    "mask = np.array(data, np.float32).reshape(3, 3)\n",
    "blur1 = filter(image, mask)                                    # 회선 수행 - 화소 직접 접근\n",
    "blur2 = filter2(image, mask)                                   # 회선 수행\n",
    "\n",
    "cv2.imshow(\"image\", image)\n",
    "cv2.imshow(\"blur1\", blur1.astype(\"uint8\"))\n",
    "cv2.imshow(\"blur2\", cv2.convertScaleAbs(blur1))\n",
    "cv2.waitKey(0)"
   ]
  },
  {
   "cell_type": "code",
   "execution_count": null,
   "metadata": {},
   "outputs": [],
   "source": []
  }
 ],
 "metadata": {
  "kernelspec": {
   "display_name": "Python 3",
   "language": "python",
   "name": "python3"
  },
  "language_info": {
   "codemirror_mode": {
    "name": "ipython",
    "version": 3
   },
   "file_extension": ".py",
   "mimetype": "text/x-python",
   "name": "python",
   "nbconvert_exporter": "python",
   "pygments_lexer": "ipython3",
   "version": "3.7.7"
  }
 },
 "nbformat": 4,
 "nbformat_minor": 4
}
