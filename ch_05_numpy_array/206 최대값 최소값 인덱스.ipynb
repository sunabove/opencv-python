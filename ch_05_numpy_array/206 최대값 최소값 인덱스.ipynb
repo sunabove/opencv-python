{
 "cells": [
  {
   "cell_type": "code",
   "execution_count": 2,
   "metadata": {},
   "outputs": [
    {
     "name": "stdout",
     "output_type": "stream",
     "text": [
      "a = \n",
      "[[4 8 5]\n",
      " [9 3 1]]\n",
      "------------------------------\n",
      "a.argmin() =  5\n",
      "a.argmin(axis=0) [0 1 1]\n",
      "a.argmin(axis=1) [0 2]\n",
      "------------------------------\n",
      "a.argmax() =  3\n",
      "a.argmax(axis=0) [1 0 0]\n",
      "a.argmax(axis=1) [1 0]\n"
     ]
    }
   ],
   "source": [
    "import numpy as np\n",
    "\n",
    "a = np.array( [ [4, 8, 5], [9, 3, 1] ] )\n",
    "\n",
    "print( \"a = \", a, sep=\"\\n\" )\n",
    "print( \"-\"*30 )\n",
    "print( \"a.argmin() = \", a.argmin() )\n",
    "print( \"a.argmin(axis=0)\", a.argmin(axis=0) )\n",
    "print( \"a.argmin(axis=1)\", a.argmin(axis=1) )\n",
    "print( \"-\"*30 )\n",
    "print( \"a.argmax() = \", a.argmax() )\n",
    "print( \"a.argmax(axis=0)\", a.argmax(axis=0) )\n",
    "print( \"a.argmax(axis=1)\", a.argmax(axis=1) )"
   ]
  }
 ],
 "metadata": {
  "kernelspec": {
   "display_name": "Python 3",
   "language": "python",
   "name": "python3"
  },
  "language_info": {
   "codemirror_mode": {
    "name": "ipython",
    "version": 3
   },
   "file_extension": ".py",
   "mimetype": "text/x-python",
   "name": "python",
   "nbconvert_exporter": "python",
   "pygments_lexer": "ipython3",
   "version": "3.11.9"
  },
  "orig_nbformat": 4
 },
 "nbformat": 4,
 "nbformat_minor": 2
}
