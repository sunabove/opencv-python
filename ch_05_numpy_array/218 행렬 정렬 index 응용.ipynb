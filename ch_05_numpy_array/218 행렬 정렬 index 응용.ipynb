{
 "cells": [
  {
   "cell_type": "code",
   "execution_count": 4,
   "metadata": {},
   "outputs": [
    {
     "name": "stdout",
     "output_type": "stream",
     "text": [
      "a = \n",
      "[[1 5]\n",
      " [2 7]\n",
      " [2 6]\n",
      " [3 4]]\n",
      "aa = \n",
      "[3 0 2 1]\n",
      "b = \n",
      "[[3 4]\n",
      " [1 5]\n",
      " [2 6]\n",
      " [2 7]]\n",
      "c = \n",
      "[[1 5]\n",
      " [2 6]\n",
      " [2 7]\n",
      " [3 4]]\n"
     ]
    }
   ],
   "source": [
    "import numpy as np\n",
    "\n",
    "a = np.array( [ [1,5], [2, 7], [2, 6 ], [3, 4] ] )\n",
    "aa = np.argsort( a[:,1] )\n",
    "b = a[ aa ]\n",
    "c = b[ np.argsort( b[:,0], kind='stable' ) ]\n",
    "\n",
    "print( 'a = ', a , sep='\\n' )\n",
    "print( 'aa = ', aa , sep='\\n' )\n",
    "print( 'b = ', b , sep='\\n' )\n",
    "print( 'c = ', c , sep='\\n' )"
   ]
  }
 ],
 "metadata": {
  "kernelspec": {
   "display_name": "Python 3",
   "language": "python",
   "name": "python3"
  },
  "language_info": {
   "codemirror_mode": {
    "name": "ipython",
    "version": 3
   },
   "file_extension": ".py",
   "mimetype": "text/x-python",
   "name": "python",
   "nbconvert_exporter": "python",
   "pygments_lexer": "ipython3",
   "version": "3.11.9"
  },
  "orig_nbformat": 4
 },
 "nbformat": 4,
 "nbformat_minor": 2
}
