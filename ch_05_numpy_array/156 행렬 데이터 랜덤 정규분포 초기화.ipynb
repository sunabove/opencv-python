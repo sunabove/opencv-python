{
 "cells": [
  {
   "cell_type": "code",
   "execution_count": 1,
   "metadata": {},
   "outputs": [
    {
     "name": "stdout",
     "output_type": "stream",
     "text": [
      "np.random.randn(3,2)\n",
      "[[-0.25023392 -0.27047268]\n",
      " [ 0.82258782  2.28870049]\n",
      " [-0.50831672 -0.69908541]]\n",
      "----------------------------------------\n",
      "np.random.normal(10, 2, (3,2) )\n",
      "[[11.54515829  9.94749631]\n",
      " [10.72841522 11.75988768]\n",
      " [ 6.45565368  8.0454871 ]]\n",
      "----------------------------------------\n"
     ]
    }
   ],
   "source": [
    "import numpy as np \n",
    "\n",
    "# 3x2 행렬, 평균 1, 표준편자 0인 실수값으로 정규분포 초기화\n",
    "d = np.random.randn(3,2) \n",
    "print( \"np.random.randn(3,2)\", d, sep=\"\\n\" )\n",
    "print( \"-\"*40 )\n",
    "\n",
    "# 3x2 행렬, 평균 10, 표준편자 2인 실수값으로 정규분포 초기화\n",
    "f = np.random.normal(10, 2, (3,2) )\n",
    "print( \"np.random.normal(10, 2, (3,2) )\", f, sep=\"\\n\" )\n",
    "print( \"-\"*40 )\n"
   ]
  }
 ],
 "metadata": {
  "kernelspec": {
   "display_name": "Python 3",
   "language": "python",
   "name": "python3"
  },
  "language_info": {
   "codemirror_mode": {
    "name": "ipython",
    "version": 3
   },
   "file_extension": ".py",
   "mimetype": "text/x-python",
   "name": "python",
   "nbconvert_exporter": "python",
   "pygments_lexer": "ipython3",
   "version": "3.11.9"
  }
 },
 "nbformat": 4,
 "nbformat_minor": 2
}
