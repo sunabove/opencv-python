{
 "cells": [
  {
   "cell_type": "code",
   "execution_count": 2,
   "metadata": {},
   "outputs": [
    {
     "name": "stdout",
     "output_type": "stream",
     "text": [
      "np.random.randn(3,2)\n",
      "[[ 0.11045504 -0.36658938]\n",
      " [-0.6199476  -0.72957088]\n",
      " [-0.90587542 -2.07773903]]\n",
      "----------------------------------------\n",
      "np.random.normal(10, 2, (3,2) )\n",
      "[[11.0373898  12.89332731]\n",
      " [ 9.13401064  9.79677736]\n",
      " [11.89325305  9.92233282]]\n",
      "----------------------------------------\n"
     ]
    }
   ],
   "source": [
    "import numpy as np \n",
    "\n",
    "# 3x2 행렬, 평균 1, 표준편자 0인 실수 값으로 정규분포 초기화\n",
    "d = np.random.randn(3,2) \n",
    "print( \"np.random.randn(3,2)\", d, sep=\"\\n\" )\n",
    "print( \"-\"*40 )\n",
    "\n",
    "# 3x2 행렬, 평균 10, 표준편자 2인 실수 값으로 정규분포 초기화\n",
    "f = np.random.normal(10, 2, (3,2) )\n",
    "print( \"np.random.normal(10, 2, (3,2) )\", f, sep=\"\\n\" )\n",
    "print( \"-\"*40 )\n"
   ]
  }
 ],
 "metadata": {
  "kernelspec": {
   "display_name": "Python 3",
   "language": "python",
   "name": "python3"
  },
  "language_info": {
   "codemirror_mode": {
    "name": "ipython",
    "version": 3
   },
   "file_extension": ".py",
   "mimetype": "text/x-python",
   "name": "python",
   "nbconvert_exporter": "python",
   "pygments_lexer": "ipython3",
   "version": "3.11.9"
  }
 },
 "nbformat": 4,
 "nbformat_minor": 2
}
