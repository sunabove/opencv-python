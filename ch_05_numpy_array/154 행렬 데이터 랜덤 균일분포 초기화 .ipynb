{
 "cells": [
  {
   "cell_type": "code",
   "execution_count": 1,
   "metadata": {},
   "outputs": [
    {
     "name": "stdout",
     "output_type": "stream",
     "text": [
      "np.random.randint( 0, 10, (3, 2) )\n",
      "[[6 1]\n",
      " [6 3]\n",
      " [6 7]]\n",
      "----------------------------------------\n",
      "np.random.rand( (3, 2) )\n",
      "[[0.59325727 0.99943817]\n",
      " [0.90752831 0.92822112]\n",
      " [0.76673498 0.15847999]]\n",
      "----------------------------------------\n",
      "np.random.uniform(1, 10, (3,2) )\n",
      "[[1.3184268  4.82479701]\n",
      " [1.26138308 3.61981298]\n",
      " [7.31282225 6.33596172]]\n",
      "----------------------------------------\n"
     ]
    }
   ],
   "source": [
    "import numpy as np \n",
    "\n",
    "# 3x2 행렬, 0에서 10미만 임의의 정수값으로 균일분포 초기화\n",
    "a = np.random.randint( 0, 10, (3, 2) )\n",
    "print( \"np.random.randint( 0, 10, (3, 2) )\", a, sep=\"\\n\" )\n",
    "print( \"-\"*40 )\n",
    "\n",
    "# 3x2 행렬, 0에서 1미만 임의의 실수값으로 균일분포 초기화\n",
    "b = np.random.rand(3,2) \n",
    "print( \"np.random.rand( (3, 2) )\", b, sep=\"\\n\" )\n",
    "print( \"-\"*40 )\n",
    "\n",
    "# 3x2 행렬, 0에서 1미만 임의의 실수값으로 균일분포 초기화\n",
    "c = np.random.uniform(1, 10, (3,2) ) \n",
    "print( \"np.random.uniform(1, 10, (3,2) )\", c, sep=\"\\n\" )\n",
    "print( \"-\"*40 ) "
   ]
  }
 ],
 "metadata": {
  "kernelspec": {
   "display_name": "Python 3",
   "language": "python",
   "name": "python3"
  },
  "language_info": {
   "codemirror_mode": {
    "name": "ipython",
    "version": 3
   },
   "file_extension": ".py",
   "mimetype": "text/x-python",
   "name": "python",
   "nbconvert_exporter": "python",
   "pygments_lexer": "ipython3",
   "version": "3.11.9"
  }
 },
 "nbformat": 4,
 "nbformat_minor": 2
}
