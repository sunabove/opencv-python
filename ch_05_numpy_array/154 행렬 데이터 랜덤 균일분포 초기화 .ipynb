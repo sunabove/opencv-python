{
 "cells": [
  {
   "cell_type": "code",
   "execution_count": 2,
   "metadata": {},
   "outputs": [
    {
     "name": "stdout",
     "output_type": "stream",
     "text": [
      "np.random.randint( 0, 10, (3, 2) )\n",
      "[[2 4]\n",
      " [2 3]\n",
      " [4 3]]\n",
      "----------------------------------------\n",
      "np.random.rand( (3, 2) )\n",
      "[[0.63574768 0.16817645]\n",
      " [0.29532108 0.28020971]\n",
      " [0.83887844 0.09292967]]\n",
      "----------------------------------------\n",
      "np.random.uniform(1, 10, (3,2) )\n",
      "[[4.36805441 1.44862442]\n",
      " [1.98017424 2.00436157]\n",
      " [2.51648255 5.66585109]]\n",
      "----------------------------------------\n"
     ]
    }
   ],
   "source": [
    "import numpy as np \n",
    "\n",
    "# 3x2 행렬, 0에서 10미만 임의의 정수 값으로 균일분포 초기화\n",
    "a = np.random.randint( 0, 10, (3, 2) )\n",
    "print( \"np.random.randint( 0, 10, (3, 2) )\", a, sep=\"\\n\" )\n",
    "print( \"-\"*40 )\n",
    "\n",
    "# 3x2 행렬, 0에서 1미만 임의의 실수 값으로 균일분포 초기화\n",
    "b = np.random.rand(3,2) \n",
    "print( \"np.random.rand( (3, 2) )\", b, sep=\"\\n\" )\n",
    "print( \"-\"*40 )\n",
    "\n",
    "# 3x2 행렬, 0에서 1미만 임의의 실수 값으로 균일분포 초기화\n",
    "c = np.random.uniform(1, 10, (3,2) ) \n",
    "print( \"np.random.uniform(1, 10, (3,2) )\", c, sep=\"\\n\" )\n",
    "print( \"-\"*40 ) "
   ]
  }
 ],
 "metadata": {
  "kernelspec": {
   "display_name": "Python 3",
   "language": "python",
   "name": "python3"
  },
  "language_info": {
   "codemirror_mode": {
    "name": "ipython",
    "version": 3
   },
   "file_extension": ".py",
   "mimetype": "text/x-python",
   "name": "python",
   "nbconvert_exporter": "python",
   "pygments_lexer": "ipython3",
   "version": "3.11.9"
  }
 },
 "nbformat": 4,
 "nbformat_minor": 2
}
