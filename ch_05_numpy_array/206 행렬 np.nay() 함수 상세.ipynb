{
 "cells": [
  {
   "cell_type": "code",
   "execution_count": 8,
   "metadata": {},
   "outputs": [
    {
     "name": "stdout",
     "output_type": "stream",
     "text": [
      "a = \n",
      "[[1 2 3]\n",
      " [4 5 6]]\n",
      "********************\n",
      "np.any( a>5 )\n",
      "True\n",
      "********************\n",
      "np.any( a>5, axis=0 )\n",
      "[False False  True]\n",
      "********************\n",
      "np.any( a>5, axis=1 )\n",
      "[False  True]\n",
      "********************\n"
     ]
    }
   ],
   "source": [
    "import numpy as np \n",
    "\n",
    "a = np.arange( 1, 7 ).reshape( 2, -1 )\n",
    "\n",
    "print( \"a = \", a, \"*\"*20, sep=\"\\n\" )\n",
    "print( \"np.any( a>5 )\", np.any( a>5 ), \"*\"*20, sep=\"\\n\" )\n",
    "print( \"np.any( a>5, axis=0 )\", np.any( a>5, axis=0 ), \"*\"*20, sep=\"\\n\" )\n",
    "print( \"np.any( a>5, axis=1 )\", np.any( a>5, axis=1 ), \"*\"*20, sep=\"\\n\" )"
   ]
  }
 ],
 "metadata": {
  "interpreter": {
   "hash": "ac59ebe37160ed0dfa835113d9b8498d9f09ceb179beaac4002f036b9467c963"
  },
  "kernelspec": {
   "display_name": "Python 3.9.7 64-bit",
   "language": "python",
   "name": "python3"
  },
  "language_info": {
   "codemirror_mode": {
    "name": "ipython",
    "version": 3
   },
   "file_extension": ".py",
   "mimetype": "text/x-python",
   "name": "python",
   "nbconvert_exporter": "python",
   "pygments_lexer": "ipython3",
   "version": "3.9.7"
  },
  "orig_nbformat": 4
 },
 "nbformat": 4,
 "nbformat_minor": 2
}
