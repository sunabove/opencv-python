{
 "cells": [
  {
   "cell_type": "code",
   "execution_count": 4,
   "metadata": {},
   "outputs": [
    {
     "name": "stdout",
     "output_type": "stream",
     "text": [
      "a = \n",
      "[[4 8 5]\n",
      " [9 3 1]]\n",
      "------------------------------\n",
      "a.min() =  1\n",
      "a.min(axis=0) [4 3 1]\n",
      "a.min(axis=1) [4 1]\n",
      "------------------------------\n",
      "a.max() =  9\n",
      "a.max(axis=0) [9 8 5]\n",
      "a.max(axis=1) [8 9]\n"
     ]
    }
   ],
   "source": [
    "import numpy as np\n",
    "\n",
    "a = np.array( [ [4, 8, 5], [9, 3, 1] ] )\n",
    "\n",
    "print( \"a = \", a, sep=\"\\n\" )\n",
    "print( \"-\"*30 )\n",
    "print( \"a.min() = \", a.min() )\n",
    "print( \"a.min(axis=0)\", a.min(axis=0) )\n",
    "print( \"a.min(axis=1)\", a.min(axis=1) )\n",
    "print( \"-\"*30 )\n",
    "print( \"a.max() = \", a.max() )\n",
    "print( \"a.max(axis=0)\", a.max(axis=0) )\n",
    "print( \"a.max(axis=1)\", a.max(axis=1) )\n"
   ]
  }
 ],
 "metadata": {
  "kernelspec": {
   "display_name": "Python 3",
   "language": "python",
   "name": "python3"
  },
  "language_info": {
   "codemirror_mode": {
    "name": "ipython",
    "version": 3
   },
   "file_extension": ".py",
   "mimetype": "text/x-python",
   "name": "python",
   "nbconvert_exporter": "python",
   "pygments_lexer": "ipython3",
   "version": "3.11.9"
  },
  "orig_nbformat": 4
 },
 "nbformat": 4,
 "nbformat_minor": 2
}
