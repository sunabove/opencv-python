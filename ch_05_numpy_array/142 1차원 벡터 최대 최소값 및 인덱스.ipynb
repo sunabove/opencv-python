{
 "cells": [
  {
   "cell_type": "code",
   "execution_count": 4,
   "metadata": {},
   "outputs": [
    {
     "name": "stdout",
     "output_type": "stream",
     "text": [
      "쵀대값        = 3 3\n",
      "최대값 인덱스 = 2 2\n",
      "최소값        = 1 1\n",
      "최소값 인덱스 = 0 0\n"
     ]
    }
   ],
   "source": [
    "import numpy as np \n",
    "\n",
    "a = np.array( [ 1, 2, 3 ] )\n",
    "\n",
    "print( \"최대값        =\", a.max(), np.max( a ) )\n",
    "print( \"최대값 인덱스 =\", a.argmax(), np.argmax( a ) )\n",
    "\n",
    "print( \"최소값        =\", a.min(), np.min( a ) )\n",
    "print( \"최소값 인덱스 =\", a.argmin(), np.argmin( a ) )"
   ]
  }
 ],
 "metadata": {
  "kernelspec": {
   "display_name": "Python 3",
   "language": "python",
   "name": "python3"
  },
  "language_info": {
   "codemirror_mode": {
    "name": "ipython",
    "version": 3
   },
   "file_extension": ".py",
   "mimetype": "text/x-python",
   "name": "python",
   "nbconvert_exporter": "python",
   "pygments_lexer": "ipython3",
   "version": "3.11.9"
  }
 },
 "nbformat": 4,
 "nbformat_minor": 2
}
