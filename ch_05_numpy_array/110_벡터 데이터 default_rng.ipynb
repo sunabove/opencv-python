{
 "cells": [
  {
   "cell_type": "code",
   "execution_count": 3,
   "metadata": {},
   "outputs": [
    {
     "name": "stdout",
     "output_type": "stream",
     "text": [
      "1 [0 2 3]\n",
      "2 [1 5 5]\n",
      "3 [0.43692475 0.91893018 0.94411405]\n",
      "4 [ 0.28858115  0.86281998 -0.77752796]\n",
      "5 [2.39552988 2.93500404 3.33195252]\n",
      "6 [7.84178761 4.41048911 3.42558821]\n"
     ]
    }
   ],
   "source": [
    "import numpy as np\n",
    "\n",
    "rng = np.random.default_rng()\n",
    "\n",
    "print( \"1\", rng.integers(0, 10, 3) )\n",
    "print( \"2\", rng.integers(0, 10, 3, endpoint=1) )\n",
    "print( \"3\", rng.random(3) )\n",
    "print( \"4\", rng.standard_normal(3) )\n",
    "print( \"5\", rng.uniform(1, 10, 3) )\n",
    "print( \"6\", rng.normal(5, 2, 3) )"
   ]
  }
 ],
 "metadata": {
  "kernelspec": {
   "display_name": "Python 3",
   "language": "python",
   "name": "python3"
  },
  "language_info": {
   "codemirror_mode": {
    "name": "ipython",
    "version": 3
   },
   "file_extension": ".py",
   "mimetype": "text/x-python",
   "name": "python",
   "nbconvert_exporter": "python",
   "pygments_lexer": "ipython3",
   "version": "3.11.9"
  }
 },
 "nbformat": 4,
 "nbformat_minor": 2
}
