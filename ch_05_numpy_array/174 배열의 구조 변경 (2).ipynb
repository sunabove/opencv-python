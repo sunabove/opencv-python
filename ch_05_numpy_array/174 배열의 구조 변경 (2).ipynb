{
 "cells": [
  {
   "cell_type": "code",
   "execution_count": 16,
   "metadata": {},
   "outputs": [
    {
     "name": "stdout",
     "output_type": "stream",
     "text": [
      "a =\n",
      "[[6 4 6 1]\n",
      " [0 0 6 1]\n",
      " [3 9 2 7]]\n",
      "a.shape = (3, 4)\n",
      "a.ravel() = [6 4 6 1 0 0 6 1 3 9 2 7]\n",
      "a.ravel().shape = (12,)\n",
      "a.reshape(2, 6) =\n",
      "[[6 4 6 1 0 0]\n",
      " [6 1 3 9 2 7]]\n",
      "a.T = [[6 0 3]\n",
      " [4 0 9]\n",
      " [6 6 2]\n",
      " [1 1 7]]\n",
      "a.T.shape = (4, 3)\n"
     ]
    }
   ],
   "source": [
    "import numpy as np\n",
    "\n",
    "a = np.random.randint( 0, 10, (3, 4) )\n",
    "\n",
    "print( \"a =\", a, sep=\"\\n\" )\n",
    "print( \"a.shape =\", a.shape )\n",
    "print( \"a.ravel() =\", a.ravel() )\n",
    "print( \"a.ravel().shape =\", a.ravel().shape )\n",
    "print( \"a.reshape(2, 6) =\", a.reshape(2, 6), sep=\"\\n\" )\n",
    "print( \"a.T =\", a.T )\n",
    "print( \"a.T.shape =\", a.T.shape )"
   ]
  }
 ],
 "metadata": {
  "kernelspec": {
   "display_name": "Python 3",
   "language": "python",
   "name": "python3"
  },
  "language_info": {
   "codemirror_mode": {
    "name": "ipython",
    "version": 3
   },
   "file_extension": ".py",
   "mimetype": "text/x-python",
   "name": "python",
   "nbconvert_exporter": "python",
   "pygments_lexer": "ipython3",
   "version": "3.11.9"
  }
 },
 "nbformat": 4,
 "nbformat_minor": 2
}
