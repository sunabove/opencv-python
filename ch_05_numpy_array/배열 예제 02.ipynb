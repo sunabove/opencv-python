{
 "cells": [
  {
   "cell_type": "markdown",
   "metadata": {},
   "source": [
    "2차원 배열 행렬 예제입니다."
   ]
  },
  {
   "cell_type": "code",
   "execution_count": 27,
   "metadata": {},
   "outputs": [
    {
     "name": "stdout",
     "output_type": "stream",
     "text": [
      "a =  [1 2 3]\n",
      "b =  [1 2 3]\n",
      "a@b =  14\n",
      "inner =  14\n",
      "outer =  [[1 2 3]\n",
      " [2 4 6]\n",
      " [3 6 9]]\n"
     ]
    }
   ],
   "source": [
    "import numpy as np \n",
    "\n",
    "a = np.array( [ 1, 2, 3 ] )\n",
    "b = np.array( [ 1, 2, 3 ] )\n",
    "\n",
    "print( \"a = \", a )\n",
    "print( \"b = \", b )\n",
    "\n",
    "print( \"a@b = \", a@b )\n",
    "print( \"inner = \", np.dot(a, b) )\n",
    "print( \"outer = \", np.outer(a, b) )"
   ]
  },
  {
   "cell_type": "code",
   "execution_count": 8,
   "metadata": {},
   "outputs": [
    {
     "name": "stdout",
     "output_type": "stream",
     "text": [
      "a =  [[8 0 0 6]\n",
      " [1 4 3 0]\n",
      " [0 3 1 9]]\n",
      "a address =  <memory at 0x00000149F31E4A00>\n",
      "b =  [[8 0 0 6]\n",
      " [1 4 3 0]\n",
      " [0 3 1 9]]\n",
      "b address  <memory at 0x00000149F31E4A00>\n",
      "a =  [[8 0 0 6 1 4]\n",
      " [3 0 0 3 1 9]]\n",
      "a address =  <memory at 0x00000149F31E4A00>\n"
     ]
    }
   ],
   "source": [
    "import numpy as np\n",
    "a = np.array( [ [8, 0, 0, 6], [1, 4, 3, 0], [0, 3, 1, 9] ] )\n",
    "\n",
    "print( \"a = \", a ) \n",
    "print( \"a address = \", a.data )\n",
    "\n",
    "b = a.reshape( 3, -1 )\n",
    "print( \"b = \", b )\n",
    "print( \"b address \", b.data )\n",
    "\n",
    "a.resize( 2, 6 )\n",
    "print( \"a = \", a )\n",
    "print( \"a address = \", a.data )"
   ]
  }
 ],
 "metadata": {
  "interpreter": {
   "hash": "ac59ebe37160ed0dfa835113d9b8498d9f09ceb179beaac4002f036b9467c963"
  },
  "kernelspec": {
   "display_name": "Python 3.9.7 64-bit",
   "name": "python3"
  },
  "language_info": {
   "codemirror_mode": {
    "name": "ipython",
    "version": 3
   },
   "file_extension": ".py",
   "mimetype": "text/x-python",
   "name": "python",
   "nbconvert_exporter": "python",
   "pygments_lexer": "ipython3",
   "version": "3.9.7"
  },
  "orig_nbformat": 4
 },
 "nbformat": 4,
 "nbformat_minor": 2
}
