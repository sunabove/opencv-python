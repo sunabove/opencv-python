{
 "cells": [
  {
   "cell_type": "code",
   "execution_count": 1,
   "metadata": {},
   "outputs": [
    {
     "name": "stdout",
     "output_type": "stream",
     "text": [
      "float64 (3,)\n",
      "int64 (3,)\n",
      "float64 (3,)\n"
     ]
    }
   ],
   "source": [
    "import numpy as np\n",
    "\n",
    "# 1차원 배열 초기화\n",
    "a = np.array( [ 1., 2., 3. ] )\n",
    "b = np.zeros(3, int)\n",
    "c = np.zeros_like(a)\n",
    "\n",
    "# 주요 속성값 출력\n",
    "print( a.dtype, a.shape )\n",
    "print( b.dtype, b.shape )\n",
    "print( c.dtype, c.shape )\n"
   ]
  }
 ],
 "metadata": {
  "kernelspec": {
   "display_name": "Python 3",
   "language": "python",
   "name": "python3"
  },
  "language_info": {
   "codemirror_mode": {
    "name": "ipython",
    "version": 3
   },
   "file_extension": ".py",
   "mimetype": "text/x-python",
   "name": "python",
   "nbconvert_exporter": "python",
   "pygments_lexer": "ipython3",
   "version": "3.11.9"
  }
 },
 "nbformat": 4,
 "nbformat_minor": 2
}
