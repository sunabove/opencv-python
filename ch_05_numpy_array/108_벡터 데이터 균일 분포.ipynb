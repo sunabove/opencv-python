{
 "cells": [
  {
   "cell_type": "code",
   "execution_count": 3,
   "metadata": {},
   "outputs": [
    {
     "name": "stdout",
     "output_type": "stream",
     "text": [
      "a = [5 8 5]\n",
      "b = [0.96393685 0.62589637 0.05738012]\n",
      "c = [0.89363344 0.15600147 0.52986158]\n",
      "d = [9.51995095 5.09262684 1.55047353]\n",
      "e = [3.53806972 5.28344013 6.84722384]\n"
     ]
    }
   ],
   "source": [
    "import numpy as np\n",
    "\n",
    "a = np.random.randint( 0, 10, 3 )\n",
    "b = np.random.rand( 3 )\n",
    "c = np.random.randn( 3 )\n",
    "d = np.random.uniform( 1, 10 ,3)\n",
    "e = np.random.normal( 5, 2, 3 )\n",
    "\n",
    "# 배열 값 출력\n",
    "print( \"a =\", a )\n",
    "print( \"b =\", b )\n",
    "print( \"c =\", c )\n",
    "print( \"d =\", d )\n",
    "print( \"e =\", e )"
   ]
  }
 ],
 "metadata": {
  "kernelspec": {
   "display_name": "Python 3",
   "language": "python",
   "name": "python3"
  },
  "language_info": {
   "codemirror_mode": {
    "name": "ipython",
    "version": 3
   },
   "file_extension": ".py",
   "mimetype": "text/x-python",
   "name": "python",
   "nbconvert_exporter": "python",
   "pygments_lexer": "ipython3",
   "version": "3.11.9"
  }
 },
 "nbformat": 4,
 "nbformat_minor": 2
}
