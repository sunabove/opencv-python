{
 "cells": [
  {
   "cell_type": "code",
   "execution_count": 1,
   "metadata": {},
   "outputs": [
    {
     "name": "stdout",
     "output_type": "stream",
     "text": [
      "a = \n",
      "[[1 2 3]\n",
      " [4 5 6]]\n",
      "--------------------------------------------------\n",
      "np.all( a>5 ) = False\n",
      "np.all( a>5, axis=0 ) = [False False False]\n",
      "np.all( a>5, axis=1 ) = [False False]\n"
     ]
    }
   ],
   "source": [
    "import numpy as np \n",
    "\n",
    "a = np.arange( 1, 7 ).reshape( 2, -1 )\n",
    "\n",
    "print( \"a = \", a, sep=\"\\n\" )\n",
    "print( \"-\"*50  )\n",
    "print( \"np.all( a>5 ) =\", np.all( a>5 ) )\n",
    "print( \"np.all( a>5, axis=0 ) =\", np.all( a>5, axis=0 ) )\n",
    "print( \"np.all( a>5, axis=1 ) =\", np.all( a>5, axis=1 ))"
   ]
  }
 ],
 "metadata": {
  "kernelspec": {
   "display_name": "Python 3",
   "language": "python",
   "name": "python3"
  },
  "language_info": {
   "codemirror_mode": {
    "name": "ipython",
    "version": 3
   },
   "file_extension": ".py",
   "mimetype": "text/x-python",
   "name": "python",
   "nbconvert_exporter": "python",
   "pygments_lexer": "ipython3",
   "version": "3.11.9"
  },
  "orig_nbformat": 4
 },
 "nbformat": 4,
 "nbformat_minor": 2
}
