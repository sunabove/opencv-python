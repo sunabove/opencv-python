{
 "cells": [
  {
   "cell_type": "code",
   "execution_count": 20,
   "metadata": {},
   "outputs": [
    {
     "name": "stdout",
     "output_type": "stream",
     "text": [
      "a = \n",
      "[[ 1  2  3  4]\n",
      " [ 5  6  7  8]\n",
      " [ 9 10 11 12]]\n",
      "****************************************\n",
      "b = \n",
      "[[1 2 3 4]\n",
      " [5 6 7 8]]\n",
      "****************************************\n",
      "c = \n",
      "[[1 2]\n",
      " [3 4]\n",
      " [5 6]]\n",
      "****************************************\n",
      "d = \n",
      "[[ 1  2  3  4]\n",
      " [ 5  6  7  8]\n",
      " [ 9 10 11 12]\n",
      " [ 1  2  3  4]\n",
      " [ 5  6  7  8]]\n",
      "****************************************\n",
      "e = \n",
      "[[ 1  2  3  4  1  2]\n",
      " [ 5  6  7  8  3  4]\n",
      " [ 9 10 11 12  5  6]]\n",
      "****************************************\n"
     ]
    }
   ],
   "source": [
    "import numpy as np\n",
    "\n",
    "a = np.arange( 1, 13 ).reshape( -1, 4 )\n",
    "b = np.arange( 1, 9 ).reshape( -1, 4 )\n",
    "c = np.arange( 1, 7 ).reshape( -1, 2 )\n",
    "\n",
    "d = np.vstack( (a,b) )\n",
    "e = np.hstack( (a,c) )\n",
    "\n",
    "print( \"a = \", a, sep=\"\\n\" )\n",
    "print( \"*\"*40 )\n",
    "print( \"b = \", b, sep=\"\\n\" )\n",
    "print( \"*\"*40 )\n",
    "print( \"c = \", c, sep=\"\\n\" )\n",
    "print( \"*\"*40 )\n",
    "\n",
    "print( \"d = \", d, sep=\"\\n\" )\n",
    "print( \"*\"*40 )\n",
    "\n",
    "print( \"e = \", e, sep=\"\\n\" )\n",
    "print( \"*\"*40 )\n"
   ]
  }
 ],
 "metadata": {
  "interpreter": {
   "hash": "ac59ebe37160ed0dfa835113d9b8498d9f09ceb179beaac4002f036b9467c963"
  },
  "kernelspec": {
   "display_name": "Python 3.9.7 64-bit",
   "name": "python3"
  },
  "language_info": {
   "codemirror_mode": {
    "name": "ipython",
    "version": 3
   },
   "file_extension": ".py",
   "mimetype": "text/x-python",
   "name": "python",
   "nbconvert_exporter": "python",
   "pygments_lexer": "ipython3",
   "version": "3.9.7"
  },
  "orig_nbformat": 4
 },
 "nbformat": 4,
 "nbformat_minor": 2
}
