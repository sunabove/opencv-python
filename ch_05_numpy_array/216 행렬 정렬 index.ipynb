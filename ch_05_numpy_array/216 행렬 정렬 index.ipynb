{
 "cells": [
  {
   "cell_type": "code",
   "execution_count": 12,
   "metadata": {},
   "outputs": [
    {
     "name": "stdout",
     "output_type": "stream",
     "text": [
      "a =  [7 4 6 5]\n",
      "b =  [1 3 2 0]\n",
      "c =  [4 5 6 7]\n",
      "a = \n",
      "[[7 2 9]\n",
      " [4 3 8]\n",
      " [6 1 7]\n",
      " [5 0 4]]\n",
      "b =  [1 3 2 0]\n",
      "c = \n",
      "[[4 3 8]\n",
      " [5 0 4]\n",
      " [6 1 7]\n",
      " [7 2 9]]\n"
     ]
    }
   ],
   "source": [
    "import numpy as np\n",
    "\n",
    "a = np.array( [7, 4, 6, 5] )\n",
    "b = np.argsort( a )\n",
    "c = a[ b ]\n",
    "\n",
    "print( 'a = ', a )\n",
    "print( 'b = ', b )\n",
    "print( 'c = ', c )\n",
    "\n",
    "a = np.array( [ [7, 2, 9], [4, 3, 8],\n",
    "               [6, 1, 7], [5, 0,4] ] \n",
    "             )\n",
    "b = np.argsort( a[:, 0] )\n",
    "c = a[ b ]\n",
    "print( 'a = ', a, sep='\\n' )\n",
    "print( 'b = ', b )\n",
    "print( 'c = ', c, sep='\\n' )"
   ]
  }
 ],
 "metadata": {
  "kernelspec": {
   "display_name": "Python 3",
   "language": "python",
   "name": "python3"
  },
  "language_info": {
   "codemirror_mode": {
    "name": "ipython",
    "version": 3
   },
   "file_extension": ".py",
   "mimetype": "text/x-python",
   "name": "python",
   "nbconvert_exporter": "python",
   "pygments_lexer": "ipython3",
   "version": "3.11.9"
  },
  "orig_nbformat": 4
 },
 "nbformat": 4,
 "nbformat_minor": 2
}
