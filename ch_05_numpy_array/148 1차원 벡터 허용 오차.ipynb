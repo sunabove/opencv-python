{
 "cells": [
  {
   "cell_type": "code",
   "execution_count": 1,
   "metadata": {},
   "outputs": [
    {
     "name": "stdout",
     "output_type": "stream",
     "text": [
      "False\n"
     ]
    },
    {
     "ename": "NameError",
     "evalue": "name 'np' is not defined",
     "output_type": "error",
     "traceback": [
      "\u001b[1;31m---------------------------------------------------------------------------\u001b[0m",
      "\u001b[1;31mNameError\u001b[0m                                 Traceback (most recent call last)",
      "Cell \u001b[1;32mIn[1], line 4\u001b[0m\n\u001b[0;32m      1\u001b[0m \u001b[38;5;28;01mimport\u001b[39;00m \u001b[38;5;21;01mmath\u001b[39;00m\n\u001b[0;32m      3\u001b[0m \u001b[38;5;28mprint\u001b[39m( \u001b[38;5;241m0.1\u001b[39m \u001b[38;5;241m+\u001b[39m \u001b[38;5;241m0.2\u001b[39m \u001b[38;5;241m==\u001b[39m \u001b[38;5;241m0.3\u001b[39m )\n\u001b[1;32m----> 4\u001b[0m \u001b[38;5;28mprint\u001b[39m( \u001b[43mnp\u001b[49m\u001b[38;5;241m.\u001b[39mallclose( \u001b[38;5;241m0.1\u001b[39m \u001b[38;5;241m+\u001b[39m \u001b[38;5;241m0.2\u001b[39m, \u001b[38;5;241m0.3\u001b[39m ) )\n\u001b[0;32m      5\u001b[0m \u001b[38;5;28mprint\u001b[39m( math\u001b[38;5;241m.\u001b[39misclose( \u001b[38;5;241m0.1\u001b[39m \u001b[38;5;241m+\u001b[39m \u001b[38;5;241m0.2\u001b[39m , \u001b[38;5;241m0.3\u001b[39m) )\n\u001b[0;32m      7\u001b[0m \u001b[38;5;28mprint\u001b[39m( \u001b[38;5;124m\"\u001b[39m\u001b[38;5;124m*\u001b[39m\u001b[38;5;124m\"\u001b[39m\u001b[38;5;241m*\u001b[39m\u001b[38;5;241m40\u001b[39m )\n",
      "\u001b[1;31mNameError\u001b[0m: name 'np' is not defined"
     ]
    }
   ],
   "source": [
    "import math\n",
    "\n",
    "print( 0.1 + 0.2 == 0.3 )\n",
    "print( np.allclose( 0.1 + 0.2, 0.3 ) )\n",
    "print( math.isclose( 0.1 + 0.2 , 0.3) )\n",
    "\n",
    "print( \"*\"*40 )\n",
    "print( 1e-9 == 2e-9 )\n",
    "print( np.allclose( 1e-9, 2e-9 ) )\n",
    "print( math.isclose( 1e09, 2e-9 ) )\n",
    "\n",
    "print( \"*\"*40 )\n",
    "print( 0.1 + 0.2 - 0.3 == 0 )\n",
    "print( np.allclose( 0.1 + 0.2-0.3, 0 ) )\n",
    "print( math.isclose( 0.1 + 0.2 - 0.3, 0 ) )\n"
   ]
  },
  {
   "cell_type": "code",
   "execution_count": 12,
   "metadata": {},
   "outputs": [
    {
     "data": {
      "text/plain": [
       "False"
      ]
     },
     "execution_count": 12,
     "metadata": {},
     "output_type": "execute_result"
    }
   ],
   "source": [
    "0.1 + 0.2 == 0.3"
   ]
  }
 ],
 "metadata": {
  "kernelspec": {
   "display_name": "Python 3",
   "language": "python",
   "name": "python3"
  },
  "language_info": {
   "codemirror_mode": {
    "name": "ipython",
    "version": 3
   },
   "file_extension": ".py",
   "mimetype": "text/x-python",
   "name": "python",
   "nbconvert_exporter": "python",
   "pygments_lexer": "ipython3",
   "version": "3.11.9"
  }
 },
 "nbformat": 4,
 "nbformat_minor": 2
}
