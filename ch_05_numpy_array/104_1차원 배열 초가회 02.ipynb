{
 "cells": [
  {
   "cell_type": "code",
   "execution_count": 2,
   "metadata": {},
   "outputs": [
    {
     "name": "stdout",
     "output_type": "stream",
     "text": [
      "a = [0 1 2 3 4 5]\n",
      "b = [2 3 4 5]\n",
      "c = [1 3 5]\n",
      "d = [0.  0.1 0.2 0.3 0.4 0.5]\n"
     ]
    }
   ],
   "source": [
    "import numpy as np\n",
    "\n",
    "# 1차원 배열 초기화 \n",
    "a = np.arange( 6 )\n",
    "b = np.arange( 2, 6 )\n",
    "c = np.arange( 1, 6, 2 )\n",
    "d = np.linspace( 0, 0.5, 6 )\n",
    "\n",
    "# 배열 값 출력\n",
    "print( \"a =\", a )\n",
    "print( \"b =\", b )\n",
    "print( \"c =\", c )\n",
    "print( \"d =\", d )"
   ]
  }
 ],
 "metadata": {
  "kernelspec": {
   "display_name": "Python 3",
   "language": "python",
   "name": "python3"
  },
  "language_info": {
   "codemirror_mode": {
    "name": "ipython",
    "version": 3
   },
   "file_extension": ".py",
   "mimetype": "text/x-python",
   "name": "python",
   "nbconvert_exporter": "python",
   "pygments_lexer": "ipython3",
   "version": "3.11.9"
  }
 },
 "nbformat": 4,
 "nbformat_minor": 2
}
