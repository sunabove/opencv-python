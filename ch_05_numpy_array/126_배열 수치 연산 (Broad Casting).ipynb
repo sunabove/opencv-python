{
 "cells": [
  {
   "cell_type": "code",
   "execution_count": 2,
   "metadata": {},
   "outputs": [
    {
     "name": "stdout",
     "output_type": "stream",
     "text": [
      "a = [1 2 3]\n",
      "b = [4 5 6]\n",
      "c = [-2 -1  0]\n",
      "d = [3 6 9]\n",
      "e = [0.33333333 0.66666667 1.        ]\n",
      "f = [0 1 1]\n",
      "g = [1 4 9]\n"
     ]
    }
   ],
   "source": [
    "import numpy as np\n",
    "\n",
    "a = np.array( [ 1, 2, 3 ] )\n",
    "b = a + 3   # 덧셈\n",
    "c = a - 3   # 뺄셈\n",
    "d = a * 3   # 곱셈\n",
    "e = a / 3   # 실수 나눗셈\n",
    "f = a // 2  # 정수 나눗셈\n",
    "g = a ** 2  # 제곱\n",
    "\n",
    "# 배열 값 출력\n",
    "print( \"a =\", a )\n",
    "print( \"b =\", b )\n",
    "print( \"c =\", c )\n",
    "print( \"d =\", d )\n",
    "print( \"e =\", e )\n",
    "print( \"f =\", f )\n",
    "print( \"g =\", g )"
   ]
  }
 ],
 "metadata": {
  "kernelspec": {
   "display_name": "Python 3",
   "language": "python",
   "name": "python3"
  },
  "language_info": {
   "codemirror_mode": {
    "name": "ipython",
    "version": 3
   },
   "file_extension": ".py",
   "mimetype": "text/x-python",
   "name": "python",
   "nbconvert_exporter": "python",
   "pygments_lexer": "ipython3",
   "version": "3.11.9"
  }
 },
 "nbformat": 4,
 "nbformat_minor": 2
}
