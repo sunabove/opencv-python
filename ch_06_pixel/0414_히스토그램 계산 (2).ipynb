{
 "cells": [
  {
   "cell_type": "code",
   "execution_count": null,
   "metadata": {},
   "outputs": [],
   "source": [
    "import numpy as np, cv2\n",
    "\n",
    "def calc_histo(image, hsize, ranges=[0, 256]):  # 행렬 원소의 1차원 히스토그램 계산\n",
    "    hist = np.zeros((hsize, 1), np.float32)  # 히스토그램 누적 행렬\n",
    "    gap = ranges[1] / hsize  # 계급 간격\n",
    "\n",
    "    for i in range(image.shape[0]):  # 2차원 행렬 순회 방식\n",
    "        for j in range(image.shape[1]):\n",
    "            idx = int(image.item(i,j) / gap)\n",
    "            hist[idx] += 1\n",
    "    return hist\n",
    "\n",
    "image = cv2.imread(\"img/pixel.jpg\", cv2.IMREAD_GRAYSCALE) # 영상 읽기 \n",
    "\n",
    "hsize, ranges = [32], [0, 256]                  # 히스토그램 간격수, 값 범위\n",
    "gap = ranges[1]/hsize[0]\n",
    "ranges_gap  = np.arange(0, ranges[1]+1, gap)\n",
    "hist1 = calc_histo(image, hsize[0], ranges)  # User 함수\n",
    "hist2 = cv2.calcHist([image], [0], None, hsize, ranges)  # OpenCV 함수\n",
    "hist3, bins = np.histogram(image, ranges_gap )\n",
    "\n",
    "print(\"User 함수: \\n\", hist1.flatten())                # 행렬을 벡터로 변환하여 출력\n",
    "print(\"OpenCV 함수: \\n\", hist2.flatten())                # 행렬을 벡터로 변환하여 출력\n",
    "print(\"numpy 함수: \\n\", hist3)   "
   ]
  }
 ],
 "metadata": {
  "kernelspec": {
   "display_name": "Python 3",
   "language": "python",
   "name": "python3"
  },
  "language_info": {
   "codemirror_mode": {
    "name": "ipython",
    "version": 3
   },
   "file_extension": ".py",
   "mimetype": "text/x-python",
   "name": "python",
   "nbconvert_exporter": "python",
   "pygments_lexer": "ipython3",
   "version": "3.7.7"
  }
 },
 "nbformat": 4,
 "nbformat_minor": 4
}
