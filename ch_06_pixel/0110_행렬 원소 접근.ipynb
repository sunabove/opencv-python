{
 "cells": [
  {
   "cell_type": "code",
   "execution_count": null,
   "metadata": {},
   "outputs": [
    {
     "name": "stdout",
     "output_type": "stream",
     "text": [
      "원소 처리 전: mat1 = \n",
      "[[0 1 2 3 4]\n",
      " [5 6 7 8 9]]\n",
      "--------------------------------------------------\n",
      "원소 처리 후: mat1 = \n",
      "[[ 0  2  4  6  8]\n",
      " [10 12 14 16 18]]\n",
      "--------------------------------------------------\n",
      "\n",
      "\n",
      "원소 처리 전: mat2 = \n",
      "[[0 1 2 3 4]\n",
      " [5 6 7 8 9]]\n",
      "--------------------------------------------------\n",
      "원소 처리 후: mat2 = \n",
      "[[ 0  2  4  6  8]\n",
      " [10 12 14 16 18]]\n",
      "--------------------------------------------------\n"
     ]
    }
   ],
   "source": [
    "# 화소(행렬 원소) 접근\n",
    "import numpy as np\n",
    "\n",
    "# 화소의 반복 접근 비효율 적\n",
    "def mat_access( mat ): # c style\n",
    "    for i in range(mat.shape[0]):\n",
    "        for j in range(mat.shape[1]):\n",
    "            k = mat[i, j] \n",
    "            mat[i, j] = k * 2  # 원소 할당\n",
    "        pass\n",
    "    pass\n",
    "pass \n",
    "\n",
    "mat1 = np.arange(10).reshape(2, 5) \n",
    "\n",
    "print(\"원소 처리 전: mat1 = \", mat1, sep=\"\\n\")\n",
    "print( \"-\"*50 )\n",
    "mat_access(mat1)\n",
    "print(\"원소 처리 후: mat1 = \", mat1, sep=\"\\n\") \n",
    "print( \"-\"*50 )\n",
    "\n",
    "mat2 = np.arange(10).reshape(2, 5) \n",
    "\n",
    "print()\n",
    "print()\n",
    "print(\"원소 처리 전: mat2 = \", mat2, sep=\"\\n\")\n",
    "print( \"-\"*50 )\n",
    "\n",
    "# 효율적인 접근 방법\n",
    "mat2 = mat2*2\n",
    "#mat2 *= 2\n",
    "print(\"원소 처리 후: mat2 = \", mat2, sep=\"\\n\")\n",
    "print( \"-\"*50 )"
   ]
  }
 ],
 "metadata": {
  "kernelspec": {
   "display_name": "Python 3",
   "language": "python",
   "name": "python3"
  },
  "language_info": {
   "codemirror_mode": {
    "name": "ipython",
    "version": 3
   },
   "file_extension": ".py",
   "mimetype": "text/x-python",
   "name": "python",
   "nbconvert_exporter": "python",
   "pygments_lexer": "ipython3",
   "version": "3.11.9"
  }
 },
 "nbformat": 4,
 "nbformat_minor": 4
}
