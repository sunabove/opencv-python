{
 "cells": [
  {
   "cell_type": "code",
   "execution_count": null,
   "metadata": {},
   "outputs": [
    {
     "data": {
      "image/png": "[encoded data removed]",
      "text/plain": [
       "<Figure size 1000x400 with 2 Axes>"
      ]
     },
     "metadata": {},
     "output_type": "display_data"
    }
   ],
   "source": [
    "import cv2, numpy as np, matplotlib.pyplot as plt\n",
    "\n",
    "# 입력 픽셀 정의\n",
    "w, h = 30, 30\n",
    "red_image = np.zeros((w, h, 3), dtype=np.uint8)\n",
    "red_image[:, :, 2] = 255  # 빨간색 채널(BGR의 R 채널)을 255로 설정\n",
    "\n",
    "blue_image = np.zeros((w, h, 3), dtype=np.uint8)\n",
    "blue_image[:, :, 0] = 255  # 파란색 채널(BGR의 B 채널)을 255로 설정\n",
    "\n",
    "p1 = red_image\n",
    "p2 = blue_image \n",
    "\n",
    "# (alpha, beta, gamma) 리스트\n",
    "blend_params = [\n",
    "    (0.5, 0.5,  0), # α=0.5, β=0.5, γ=검정색\n",
    "    (0.8, 0.2,  0), # α=0.8, β=0.2, γ=검정색\n",
    "    (0.2, 0.8,  0), # α=0.2, β=0.8, γ=검정색\n",
    "    (0.5, 0.5, 50), # α=0.5, β=0.5, γ=회색\n",
    "]\n",
    "\n",
    "# 합성 결과 저장 리스트\n",
    "results = []\n",
    "\n",
    "for alpha, beta, gamma in blend_params:\n",
    "    # 가중합 계산\n",
    "    img = cv2.addWeighted(p1, alpha, p2, beta, gamma)\n",
    "    results.append((p1, p2, alpha, beta, gamma, img))\n",
    "pass\n",
    "\n",
    "# 결과 출력\n",
    "plt.figure(figsize=(10, 4)) \n",
    "\n",
    "for idx, (p1, p2, alpha, beta, gamma, img) in enumerate(results):\n",
    "    plt.subplot(2, 2, idx + 1)\n",
    "    plt.imshow( img )\n",
    "    plt.title(f\"α={alpha}, β={beta}, γ={gamma}\")\n",
    "    plt.axis('off')\n",
    "pass\n",
    "\n",
    "plt.tight_layout()\n",
    "plt.show()\n"
   ]
  }
 ],
 "metadata": {
  "kernelspec": {
   "display_name": "Python 3",
   "language": "python",
   "name": "python3"
  },
  "language_info": {
   "codemirror_mode": {
    "name": "ipython",
    "version": 3
   },
   "file_extension": ".py",
   "mimetype": "text/x-python",
   "name": "python",
   "nbconvert_exporter": "python",
   "pygments_lexer": "ipython3",
   "version": "3.11.9"
  }
 },
 "nbformat": 4,
 "nbformat_minor": 4
}
